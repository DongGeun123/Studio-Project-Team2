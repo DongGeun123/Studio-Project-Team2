{
 "cells": [
  {
   "cell_type": "code",
   "execution_count": 1,
   "metadata": {},
   "outputs": [
    {
     "name": "stderr",
     "output_type": "stream",
     "text": [
      "/home/kims90/env/lib/python3.8/site-packages/tqdm/auto.py:22: TqdmWarning: IProgress not found. Please update jupyter and ipywidgets. See https://ipywidgets.readthedocs.io/en/stable/user_install.html\n",
      "  from .autonotebook import tqdm as notebook_tqdm\n",
      "Some weights of the model checkpoint at vinai/bertweet-large were not used when initializing RobertaModel: ['lm_head.layer_norm.weight', 'lm_head.decoder.weight', 'lm_head.decoder.bias', 'lm_head.dense.bias', 'lm_head.layer_norm.bias', 'lm_head.bias', 'lm_head.dense.weight']\n",
      "- This IS expected if you are initializing RobertaModel from the checkpoint of a model trained on another task or with another architecture (e.g. initializing a BertForSequenceClassification model from a BertForPreTraining model).\n",
      "- This IS NOT expected if you are initializing RobertaModel from the checkpoint of a model that you expect to be exactly identical (initializing a BertForSequenceClassification model from a BertForSequenceClassification model).\n",
      "Some weights of RobertaModel were not initialized from the model checkpoint at vinai/bertweet-large and are newly initialized: ['roberta.pooler.dense.weight', 'roberta.pooler.dense.bias']\n",
      "You should probably TRAIN this model on a down-stream task to be able to use it for predictions and inference.\n"
     ]
    }
   ],
   "source": [
    "import torch\n",
    "from transformers import AutoTokenizer, AutoModel\n",
    "from BERTweet.TweetNormalizer import normalizeTweet\n",
    "from tqdm import tqdm\n",
    "import numpy as np\n",
    "from sklearn.neural_network import MLPClassifier\n",
    "import pickle\n",
    "\n",
    "bertweet = AutoModel.from_pretrained(\"vinai/bertweet-large\")\n",
    "tokenizer = AutoTokenizer.from_pretrained(\"vinai/bertweet-large\")\n",
    "\n",
    "#https://github.com/VinAIResearch/BERTweet\n",
    "#https://huggingface.co/docs/transformers/model_doc/bertweet"
   ]
  },
  {
   "cell_type": "code",
   "execution_count": 2,
   "metadata": {},
   "outputs": [],
   "source": [
    "\n",
    "f_train = open(\"../tweeteval/datasets/sentiment/train_text.txt\", \"r\")\n",
    "train_text = f_train.read().split(\"\\n\")\n",
    "train_text = train_text[:-1]\n",
    "\n",
    "f_text = open(\"../tweeteval/datasets/sentiment/test_text.txt\", \"r\")\n",
    "test_text = f_text.read().split(\"\\n\")\n",
    "test_text = test_text[:-1]\n",
    "\n",
    "l_train = open(\"../tweeteval/datasets/sentiment/train_labels.txt\", \"r\")\n",
    "train_label = l_train.read().split(\"\\n\")\n",
    "train_label = train_label[:-1]\n",
    "\n",
    "l_test = open(\"../tweeteval/datasets/sentiment/test_labels.txt\", \"r\")\n",
    "test_label = l_test.read().split(\"\\n\")\n",
    "test_label = test_label[:-1]\n",
    "\n",
    "#https://www.w3schools.com/python/python_file_open.asp"
   ]
  },
  {
   "cell_type": "code",
   "execution_count": 3,
   "metadata": {},
   "outputs": [
    {
     "name": "stderr",
     "output_type": "stream",
     "text": [
      "100%|██████████| 45615/45615 [46:00<00:00, 16.53it/s]\n"
     ]
    }
   ],
   "source": [
    "#get train features\n",
    "\n",
    "train_features = []\n",
    "\n",
    "for i in tqdm(range(len(train_text))):\n",
    "    line = normalizeTweet(train_text[i])\n",
    "    input_ids = torch.tensor([tokenizer.encode(line)])\n",
    "\n",
    "    with torch.no_grad():\n",
    "        features = bertweet(input_ids)\n",
    "        train_features.append(features)"
   ]
  },
  {
   "cell_type": "code",
   "execution_count": 4,
   "metadata": {},
   "outputs": [
    {
     "name": "stderr",
     "output_type": "stream",
     "text": [
      "100%|██████████| 12284/12284 [12:19<00:00, 16.62it/s]\n"
     ]
    }
   ],
   "source": [
    "#test features\n",
    "import torch.nn.functional as F\n",
    "test_features = []\n",
    "\n",
    "for i in tqdm(range(len(test_text))):\n",
    "    line = normalizeTweet(test_text[i])\n",
    "    input_ids = torch.tensor([tokenizer.encode(line)])\n",
    "\n",
    "    with torch.no_grad():\n",
    "        try:\n",
    "            features = bertweet(input_ids)\n",
    "            test_features.append(features)\n",
    "        except RuntimeError:\n",
    "            print(\"remove index: \", i)\n"
   ]
  },
  {
   "cell_type": "code",
   "execution_count": 5,
   "metadata": {},
   "outputs": [],
   "source": [
    "train_features_2 = []\n",
    "\n",
    "for i in train_features:\n",
    "    train_features_2.append(torch.flatten(i[\"pooler_output\"]).numpy())\n",
    "\n",
    "\n",
    "clf = MLPClassifier().fit(train_features_2, train_label)\n",
    "\n",
    "#https://scikit-learn.org/stable/modules/generated/sklearn.neural_network.MLPClassifier.html"
   ]
  },
  {
   "cell_type": "code",
   "execution_count": 6,
   "metadata": {},
   "outputs": [],
   "source": [
    "filename = 'saveMLP.sav'\n",
    "\n",
    "pickle.dump(clf, open(filename, 'wb'))\n",
    "#https://stackoverflow.com/questions/56107259/how-to-save-a-trained-model-by-scikit-learn"
   ]
  },
  {
   "cell_type": "code",
   "execution_count": 7,
   "metadata": {},
   "outputs": [
    {
     "data": {
      "text/plain": [
       "array(['1', '1', '0', ..., '0', '0', '2'], dtype='<U1')"
      ]
     },
     "execution_count": 7,
     "metadata": {},
     "output_type": "execute_result"
    }
   ],
   "source": [
    "test_features_2 = []\n",
    "\n",
    "for i in test_features:\n",
    "    test_features_2.append(torch.flatten(i[\"pooler_output\"]).numpy())\n",
    "\n",
    "\n",
    "clf.predict(test_features_2)"
   ]
  },
  {
   "cell_type": "code",
   "execution_count": 8,
   "metadata": {},
   "outputs": [
    {
     "data": {
      "text/plain": [
       "0.6252035167697818"
      ]
     },
     "execution_count": 8,
     "metadata": {},
     "output_type": "execute_result"
    }
   ],
   "source": [
    "clf.score(test_features_2, test_label)"
   ]
  },
  {
   "cell_type": "code",
   "execution_count": 9,
   "metadata": {},
   "outputs": [
    {
     "data": {
      "text/plain": [
       "array([[3132,  691,  149],\n",
       "       [1972, 3155,  810],\n",
       "       [ 292,  690, 1393]])"
      ]
     },
     "execution_count": 9,
     "metadata": {},
     "output_type": "execute_result"
    }
   ],
   "source": [
    "from sklearn.metrics import confusion_matrix\n",
    "\n",
    "true_label = test_label\n",
    "pred_label = clf.predict(test_features_2)\n",
    "\n",
    "confusion_matrix(true_label, pred_label)\n",
    "#https://scikit-learn.org/stable/modules/generated/sklearn.metrics.confusion_matrix.html"
   ]
  },
  {
   "cell_type": "code",
   "execution_count": 10,
   "metadata": {},
   "outputs": [
    {
     "name": "stdout",
     "output_type": "stream",
     "text": [
      "[[0.78851964 0.17396777 0.03751259]\n",
      " [0.33215429 0.53141317 0.13643254]\n",
      " [0.12294737 0.29052632 0.58652632]]\n"
     ]
    },
    {
     "data": {
      "image/png": "[encoded data removed]",
      "text/plain": [
       "<Figure size 640x480 with 2 Axes>"
      ]
     },
     "metadata": {},
     "output_type": "display_data"
    }
   ],
   "source": [
    "from sklearn.metrics import ConfusionMatrixDisplay\n",
    "import matplotlib.pyplot as plt\n",
    "\n",
    "\n",
    "disp = ConfusionMatrixDisplay.from_predictions(\n",
    "    true_label,\n",
    "    pred_label,\n",
    "    cmap=plt.cm.Blues,\n",
    "    normalize='true',\n",
    "\n",
    ")\n",
    "\n",
    "\n",
    "\n",
    "print(disp.confusion_matrix)\n",
    "#https://scikit-learn.org/stable/auto_examples/model_selection/plot_confusion_matrix.html"
   ]
  },
  {
   "cell_type": "code",
   "execution_count": 11,
   "metadata": {},
   "outputs": [
    {
     "name": "stdout",
     "output_type": "stream",
     "text": [
      "[[0.78851964 0.17396777 0.03751259]\n",
      " [0.33215429 0.53141317 0.13643254]\n",
      " [0.12294737 0.29052632 0.58652632]]\n"
     ]
    },
    {
     "data": {
      "image/png": "[encoded data removed]",
      "text/plain": [
       "<Figure size 640x480 with 2 Axes>"
      ]
     },
     "metadata": {},
     "output_type": "display_data"
    }
   ],
   "source": [
    "disp = ConfusionMatrixDisplay.from_predictions(\n",
    "    true_label,\n",
    "    pred_label,\n",
    "    display_labels=['negative', 'neutral', 'positive'],\n",
    "    cmap=plt.cm.Blues,\n",
    "    normalize='true',\n",
    "\n",
    ")\n",
    "\n",
    "\n",
    "\n",
    "print(disp.confusion_matrix)"
   ]
  },
  {
   "cell_type": "code",
   "execution_count": 12,
   "metadata": {},
   "outputs": [
    {
     "name": "stdout",
     "output_type": "stream",
     "text": [
      "[[3132  691  149]\n",
      " [1972 3155  810]\n",
      " [ 292  690 1393]]\n",
      "              precision    recall  f1-score   support\n",
      "\n",
      "           0       0.58      0.79      0.67      3972\n",
      "           1       0.70      0.53      0.60      5937\n",
      "           2       0.59      0.59      0.59      2375\n",
      "\n",
      "    accuracy                           0.63     12284\n",
      "   macro avg       0.62      0.64      0.62     12284\n",
      "weighted avg       0.64      0.63      0.62     12284\n",
      "\n"
     ]
    }
   ],
   "source": [
    "from sklearn.metrics import confusion_matrix\n",
    "cf_matrix = confusion_matrix(true_label, pred_label)\n",
    "print(cf_matrix)\n",
    "\n",
    "from sklearn.metrics import classification_report\n",
    "print(classification_report(true_label, pred_label))"
   ]
  }
 ],
 "metadata": {
  "kernelspec": {
   "display_name": "env",
   "language": "python",
   "name": "python3"
  },
  "language_info": {
   "codemirror_mode": {
    "name": "ipython",
    "version": 3
   },
   "file_extension": ".py",
   "mimetype": "text/x-python",
   "name": "python",
   "nbconvert_exporter": "python",
   "pygments_lexer": "ipython3",
   "version": "3.8.10"
  },
  "orig_nbformat": 4,
  "vscode": {
   "interpreter": {
    "hash": "2e7c79ae4ba87fca09383a7342f3bbcc72a9e487aa2559b2b6df6cd9417bc4a6"
   }
  }
 },
 "nbformat": 4,
 "nbformat_minor": 2
}
